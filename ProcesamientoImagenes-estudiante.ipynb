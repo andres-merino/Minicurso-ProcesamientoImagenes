{
  "cells": [
    {
      "cell_type": "markdown",
      "metadata": {
        "colab_type": "text",
        "id": "view-in-github"
      },
      "source": [
        "<a href=\"https://colab.research.google.com/github/andres-merino/Minicurso-ProcesamientoImagenes/blob/main/ProcesamientoImagenes-estudiante.ipynb\" target=\"_parent\"><img src=\"https://colab.research.google.com/assets/colab-badge.svg\" alt=\"Open In Colab\"/></a>"
      ]
    },
    {
      "cell_type": "markdown",
      "metadata": {
        "id": "IPGP8vlZmq2B"
      },
      "source": [
        "<table style=\"border: 1px solid white;border-collapse: collapse;\" >\n",
        "<tr>\n",
        "  <td style=\"width:20%;vertical-align:middle;padding-right: 10;\"> <img src=\"https://i.imgur.com/nt7hloA.png\" width=\"100\"> </td>\n",
        "  <td><p style=\"margin: 0; text-align:left; font-variant: small-caps; font-size: 20px; color:#0030A1; font-weight: bold;\">Facultad de Ciencias Exactas y Naturales</p>\n",
        "    <p style=\"margin: 0; text-align:left; font-variant: small-caps; font-size: 20px; color:#0030A1; font-weight: bold;\">Escuela de Verano de Aprendizaje Automático</p>\n",
        "    <p style=\"margin: 0; text-align:left; font-variant: small-caps; font-size: 20px; color:#0030A1;\">Procesamiento y Análisis de imágenes</p>\n",
        "    <p style=\"margin: 0; text-align:left; color:#0030A1; font-style: oblique;\">Andrés Merino &bull; Septiembre 2024</p>\n",
        "  </td>  \n",
        "</tr>\n",
        "</table>"
      ]
    },
    {
      "cell_type": "markdown",
      "metadata": {
        "id": "_4RVtJ_mmq2C"
      },
      "source": [
        "---\n",
        "## <font color='264CC7'> Configuración Inicial</font>\n",
        "---"
      ]
    },
    {
      "cell_type": "code",
      "execution_count": null,
      "metadata": {
        "colab": {
          "base_uri": "https://localhost:8080/"
        },
        "id": "hisdpmJKmq2C",
        "outputId": "26d2407c-c5dd-47e8-b69a-279442ae6cbd"
      },
      "outputs": [],
      "source": [
        "# Paquetes\n",
        "import numpy as np\n",
        "from matplotlib import pyplot as plt\n",
        "import cv2\n",
        "\n",
        "# Descargar la imagen\n",
        "from urllib.request import urlretrieve\n",
        "urlretrieve(\"https://raw.githubusercontent.com/andres-merino/Minicurso-ProcesamientoImagenes/main/Imagenes/aurelio.png\", \"/content/aurelio.png\")\n",
        "urlretrieve(\"https://raw.githubusercontent.com/andres-merino/Minicurso-ProcesamientoImagenes/main/Imagenes/OsoAurelio.jpg\", \"/content/OsoAurelio.jpg\")"
      ]
    },
    {
      "cell_type": "markdown",
      "metadata": {
        "id": "KXJtJdUsmq2C"
      },
      "source": [
        "---\n",
        "## <font color='264CC7'> Reducción y ampliación de Imágenes</font>\n",
        "---"
      ]
    },
    {
      "cell_type": "markdown",
      "metadata": {
        "id": "CfoeWryNmq2C"
      },
      "source": [
        "Leemos la imagen:"
      ]
    },
    {
      "cell_type": "code",
      "execution_count": null,
      "metadata": {
        "colab": {
          "base_uri": "https://localhost:8080/",
          "height": 453
        },
        "id": "cilFc9VWmq2D",
        "outputId": "2c692ad8-0eda-41ba-91d0-23105c432318"
      },
      "outputs": [],
      "source": [
        "img = plt.imread('aurelio.png')\n",
        "print(img.shape)\n",
        "plt.imshow(img)\n",
        "plt.show()"
      ]
    },
    {
      "cell_type": "markdown",
      "metadata": {
        "id": "VaF6Mw1Nmq2D"
      },
      "source": [
        "Reducimos eliminando filas y columnas, saltando una:"
      ]
    },
    {
      "cell_type": "code",
      "execution_count": null,
      "metadata": {
        "colab": {
          "base_uri": "https://localhost:8080/",
          "height": 453
        },
        "id": "qHkxEv91mq2D",
        "outputId": "c287061b-1c41-461a-8704-83dad1d358ee"
      },
      "outputs": [],
      "source": [
        "img_reducida = img[::2, ::2, :]\n",
        "print(img_reducida.shape)\n",
        "plt.imshow(img_reducida)\n",
        "plt.show()"
      ]
    },
    {
      "cell_type": "markdown",
      "metadata": {
        "id": "9E9y_MuDmq2D"
      },
      "source": [
        "Recostruimos la imagen con interpolación lineal:"
      ]
    },
    {
      "cell_type": "code",
      "execution_count": null,
      "metadata": {
        "colab": {
          "base_uri": "https://localhost:8080/",
          "height": 453
        },
        "id": "NbGZYYFqmq2D",
        "outputId": "bac8f768-6b18-4c99-a863-82c3026710cc"
      },
      "outputs": [],
      "source": [
        "img_ampliada =cv2.resize(img_reducida, (img.shape[1], img.shape[0]), interpolation=cv2.INTER_LINEAR)\n",
        "print(img_ampliada.shape)\n",
        "plt.imshow(img_ampliada)\n",
        "plt.show()"
      ]
    },
    {
      "cell_type": "markdown",
      "metadata": {
        "id": "0dyjGD73mq2E"
      },
      "source": [
        "Podemos probar otros tipos de interpolación:\n",
        "- cv2.INTER_NEAREST\n",
        "- cv2.INTER_LINEAR\n",
        "- cv2.INTER_AREA\n",
        "- cv2.INTER_CUBIC\n",
        "- cv2.INTER_LANCZOS4"
      ]
    },
    {
      "cell_type": "code",
      "execution_count": 1,
      "metadata": {
        "colab": {
          "base_uri": "https://localhost:8080/",
          "height": 472
        },
        "id": "h7e7fHztmq2E",
        "outputId": "19720042-2860-4025-9c5e-9cee9f70217f"
      },
      "outputs": [],
      "source": [
        "# Completa el código\n"
      ]
    },
    {
      "cell_type": "markdown",
      "metadata": {
        "id": "BZRC7ihLmq2E"
      },
      "source": [
        "---\n",
        "## <font color='264CC7'> Filtros</font>\n",
        "---"
      ]
    },
    {
      "cell_type": "markdown",
      "metadata": {
        "id": "zWApkea2mq2E"
      },
      "source": [
        "Leemos la imagen:"
      ]
    },
    {
      "cell_type": "code",
      "execution_count": null,
      "metadata": {
        "colab": {
          "base_uri": "https://localhost:8080/",
          "height": 435
        },
        "id": "JBWiZDd_mq2E",
        "outputId": "de5f66e2-fd32-4369-9c18-1ee6c8889b12"
      },
      "outputs": [],
      "source": [
        "# Completa el código para leer 'OsoAurelio.jpg'\n"
      ]
    },
    {
      "cell_type": "markdown",
      "metadata": {
        "id": "is1Gku-Mmq2E"
      },
      "source": [
        "Aplicamos el flitro dado por la siguiente matriz\n",
        "$$\n",
        "    \\begin{pmatrix}\n",
        "    -2 & -1 & 0 \\\\\n",
        "    -1 & 1 & 1 \\\\\n",
        "    0 & 1 & 1   \n",
        "    \\end{pmatrix}.\n",
        "$$"
      ]
    },
    {
      "cell_type": "code",
      "execution_count": null,
      "metadata": {
        "colab": {
          "base_uri": "https://localhost:8080/",
          "height": 435
        },
        "id": "JoZbXXkpmq2E",
        "outputId": "f48e4761-fafd-43fa-9c21-8c8969854926"
      },
      "outputs": [],
      "source": [
        "filtro = np.array([\n",
        "        [-2, -1, 0],\n",
        "        [-1, 1, 1],\n",
        "        [0, 1, 2]\n",
        "    ])\n",
        "\n",
        "img_f1 = cv2.filter2D(img, kernel=filtro, ddepth=-1)\n",
        "\n",
        "plt.imshow(img_f1)\n",
        "plt.show()"
      ]
    },
    {
      "cell_type": "markdown",
      "metadata": {
        "id": "aiUs29H7mq2E"
      },
      "source": [
        "Probamos con otros filtros:\n",
        "$$\n",
        "    \\begin{pmatrix}\n",
        "    -1 & -1 & -1 \\\\\n",
        "    0 & 0 & 0 \\\\\n",
        "    1 & 1 & 1   \n",
        "    \\end{pmatrix};\n",
        "    \\quad\n",
        "    \\begin{pmatrix}\n",
        "    1 & 0 & -1 \\\\\n",
        "    1 & 0 & -1 \\\\\n",
        "    1 & 0 & -1\n",
        "    \\end{pmatrix}.\n",
        "$$"
      ]
    },
    {
      "cell_type": "code",
      "execution_count": null,
      "metadata": {
        "colab": {
          "base_uri": "https://localhost:8080/",
          "height": 435
        },
        "id": "Nbw_E6Eemq2F",
        "outputId": "efcfc02e-75d8-4e42-c279-1c986fd4d21d"
      },
      "outputs": [],
      "source": [
        "# Completa el código\n"
      ]
    },
    {
      "cell_type": "code",
      "execution_count": null,
      "metadata": {
        "colab": {
          "base_uri": "https://localhost:8080/",
          "height": 435
        },
        "id": "8Cg02Y_Imq2F",
        "outputId": "464dd0cd-9d59-4be3-fb9c-d3f3b8d6167d"
      },
      "outputs": [],
      "source": [
        "# Completa el código\n"
      ]
    },
    {
      "cell_type": "markdown",
      "metadata": {
        "id": "o_tzxHctmq2F"
      },
      "source": [
        "---\n",
        "## <font color='264CC7'> Redes convolucionales</font>\n",
        "---"
      ]
    },
    {
      "cell_type": "code",
      "execution_count": 91,
      "metadata": {
        "id": "K-_tdONImq2F"
      },
      "outputs": [],
      "source": [
        "# Paquetes necesarios\n",
        "import tensorflow as tf\n",
        "import tensorflow_datasets as tfds\n",
        "\n",
        "import matplotlib.pyplot as plt"
      ]
    },
    {
      "cell_type": "markdown",
      "metadata": {
        "id": "ZgBAXayZmq2F"
      },
      "source": [
        "### <font color='264CC7'> Lectura de datos</font>"
      ]
    },
    {
      "cell_type": "code",
      "execution_count": 92,
      "metadata": {
        "id": "9Sh_aGxlmq2F"
      },
      "outputs": [],
      "source": [
        "# Descargar set de datos de MNIST (Numeros escritos a mano, etiquetados)\n",
        "datos, metadatos = tfds.load('mnist', as_supervised=True, with_info=True)\n",
        "\n",
        "# Obtener en variables separadas los datos de entrenamiento (60k) y pruebas (10k)\n",
        "datos_train, datos_test = datos['train'], datos['test']"
      ]
    },
    {
      "cell_type": "markdown",
      "metadata": {
        "id": "KMoVxRkqEqfo"
      },
      "source": [
        "Revisamos el tipo de datos:"
      ]
    },
    {
      "cell_type": "code",
      "execution_count": null,
      "metadata": {
        "colab": {
          "base_uri": "https://localhost:8080/"
        },
        "id": "7ztHTjrgmq2F",
        "outputId": "dd9c3b80-3967-443c-d99e-fdb8fa991e7e"
      },
      "outputs": [],
      "source": [
        "datos_train.take(1).element_spec"
      ]
    },
    {
      "cell_type": "markdown",
      "metadata": {
        "id": "R3iFNcc-Eqfo"
      },
      "source": [
        "Visualizamos los datos:"
      ]
    },
    {
      "cell_type": "code",
      "execution_count": null,
      "metadata": {
        "colab": {
          "base_uri": "https://localhost:8080/",
          "height": 152
        },
        "id": "ygoPiz-pmq2F",
        "outputId": "a22147e6-7fcc-4aca-b5d4-0026e2025a7b"
      },
      "outputs": [],
      "source": [
        "plt.figure(figsize=(7,7))\n",
        "\n",
        "for i, (imagen, etiqueta) in enumerate(datos_train.take(5)):\n",
        "    imagen = imagen.numpy()\n",
        "    plt.subplot(5,5,i+1)\n",
        "    plt.imshow(imagen, cmap=plt.cm.binary)\n",
        "    plt.title(etiqueta.numpy())\n",
        "    plt.axis('off')\n",
        "plt.show()"
      ]
    },
    {
      "cell_type": "markdown",
      "metadata": {
        "id": "LWeJlBw5Eqfo"
      },
      "source": [
        "Preparamos los datos en lotes:"
      ]
    },
    {
      "cell_type": "code",
      "execution_count": null,
      "metadata": {
        "colab": {
          "base_uri": "https://localhost:8080/"
        },
        "id": "SlT1jqEGEqfo",
        "outputId": "f2e4d70e-43cb-4bc2-8020-fd09e5f0f82d"
      },
      "outputs": [],
      "source": [
        "# Cantidad de datos de entrenamiento\n",
        "num_datos_train = metadatos.splits[\"train\"].num_examples\n",
        "print(\"Imagenes de entrenamiento:\", num_datos_train)\n",
        "\n",
        "# Coloco en lotes\n",
        "datos_train = datos_train.repeat().shuffle(num_datos_train).batch(32)\n",
        "datos_test = datos_test.batch(32)"
      ]
    },
    {
      "cell_type": "markdown",
      "metadata": {
        "id": "A7rabSsemq2F"
      },
      "source": [
        "### <font color='264CC7'> Redes densa</font>"
      ]
    },
    {
      "cell_type": "markdown",
      "metadata": {
        "id": "kzuXcquLEqfo"
      },
      "source": [
        "Definimos la red:"
      ]
    },
    {
      "cell_type": "code",
      "execution_count": null,
      "metadata": {
        "colab": {
          "base_uri": "https://localhost:8080/",
          "height": 262
        },
        "id": "EvqQ3N3bmq2G",
        "outputId": "f28f892a-605a-4386-95e9-2e517e29daf4"
      },
      "outputs": [],
      "source": [
        "#Crear el modelo (Modelo denso, regular, sin redes convolucionales todavia)\n",
        "modelo = tf.keras.Sequential([\n",
        "    # Completa el código\n",
        "    \n",
        "])\n",
        "\n",
        "#Compilar el modelo\n",
        "modelo.compile(\n",
        "    optimizer='adam',\n",
        "    loss=tf.keras.losses.SparseCategoricalCrossentropy(),\n",
        "    metrics=['accuracy']\n",
        ")\n",
        "\n",
        "modelo.summary()"
      ]
    },
    {
      "cell_type": "markdown",
      "metadata": {
        "id": "8ofXgpJcEqfp"
      },
      "source": [
        "Entrenamos el modelo:"
      ]
    },
    {
      "cell_type": "code",
      "execution_count": null,
      "metadata": {
        "colab": {
          "base_uri": "https://localhost:8080/"
        },
        "id": "Oy-ZRQNwmq2G",
        "outputId": "756c82e5-072f-4b80-f631-cdbff9c42113"
      },
      "outputs": [],
      "source": [
        "modelo.fit(\n",
        "    datos_train,\n",
        "    epochs=2,\n",
        "    steps_per_epoch=num_datos_train//32\n",
        ")"
      ]
    },
    {
      "cell_type": "markdown",
      "metadata": {
        "id": "4BpuA6ePEqfp"
      },
      "source": [
        "Visualizamos los resultados:"
      ]
    },
    {
      "cell_type": "code",
      "execution_count": null,
      "metadata": {
        "colab": {
          "base_uri": "https://localhost:8080/",
          "height": 183
        },
        "id": "cd5IarQwsnPT",
        "outputId": "6b3349b5-6280-497f-fc4d-4d2c9e170222"
      },
      "outputs": [],
      "source": [
        "for i, (imagenes, etiquetas_reales) in enumerate(datos_test.take(1)):\n",
        "    # Hacer predicciones\n",
        "    predicciones = modelo.predict(imagenes)\n",
        "\n",
        "    for j in range(5):\n",
        "        imagen = imagenes[j+26].numpy()\n",
        "        plt.subplot(1, 5, j+1)\n",
        "        plt.imshow(imagen, cmap=plt.cm.binary)\n",
        "        plt.title(f\"Pred:{tf.argmax(predicciones[j+26]).numpy()}\\nReal:{etiquetas_reales[j+26].numpy()}\")\n",
        "        plt.axis('off')\n",
        "    plt.show()"
      ]
    },
    {
      "cell_type": "markdown",
      "metadata": {
        "id": "-SBJ3SF-Eqfp"
      },
      "source": [
        "Evaluamos el modelo:"
      ]
    },
    {
      "cell_type": "code",
      "execution_count": null,
      "metadata": {
        "colab": {
          "base_uri": "https://localhost:8080/"
        },
        "id": "jEZt8mdi02-S",
        "outputId": "14e5cef4-9479-47f0-ba64-4a9310e47db8"
      },
      "outputs": [],
      "source": [
        "# Evaluar el modelo en el conjunto de prueba\n",
        "resultado = modelo.evaluate(datos_test)\n",
        "\n",
        "# resultado[0] es la pérdida, resultado[1] es la precisión\n",
        "print(f'Precisión en el conjunto de prueba: {resultado[1]:.4f}')"
      ]
    },
    {
      "cell_type": "markdown",
      "metadata": {
        "id": "2SA3EvoUEqfs"
      },
      "source": [
        "### <font color='264CC7'> Redes convolucional</font>"
      ]
    },
    {
      "cell_type": "markdown",
      "metadata": {
        "id": "ylk72qgkEqfs"
      },
      "source": [
        "Defimos la red:"
      ]
    },
    {
      "cell_type": "code",
      "execution_count": null,
      "metadata": {
        "colab": {
          "base_uri": "https://localhost:8080/",
          "height": 361
        },
        "id": "Z8tMLfck1N1L",
        "outputId": "9050f696-aeda-47e8-d2d9-cee6a2c170f5"
      },
      "outputs": [],
      "source": [
        "modelo = tf.keras.Sequential([\n",
        "    # Completa el código\n",
        "\n",
        "])\n",
        "\n",
        "#Compilar el modelo\n",
        "modelo.compile(\n",
        "    optimizer='adam',\n",
        "    loss=tf.keras.losses.SparseCategoricalCrossentropy(),\n",
        "    metrics=['accuracy']\n",
        ")\n",
        "\n",
        "modelo.summary()"
      ]
    },
    {
      "cell_type": "markdown",
      "metadata": {
        "id": "uspLtnHVEqft"
      },
      "source": [
        "Entrenamos el modelo:"
      ]
    },
    {
      "cell_type": "code",
      "execution_count": null,
      "metadata": {
        "colab": {
          "base_uri": "https://localhost:8080/"
        },
        "id": "YhL-6Q0L1cwk",
        "outputId": "d06a267f-9a11-4453-fb55-94bd179be25c"
      },
      "outputs": [],
      "source": [
        "modelo.fit(\n",
        "    datos_train,\n",
        "    epochs=2,\n",
        "    steps_per_epoch=num_datos_train//32\n",
        ")"
      ]
    },
    {
      "cell_type": "markdown",
      "metadata": {
        "id": "jfWXaMg2Eqft"
      },
      "source": [
        "Visualizamos los resultados:"
      ]
    },
    {
      "cell_type": "code",
      "execution_count": null,
      "metadata": {
        "colab": {
          "base_uri": "https://localhost:8080/",
          "height": 183
        },
        "id": "bE0hZXY91iwl",
        "outputId": "ca4e9b9d-9eed-419f-ba61-776848c0777e"
      },
      "outputs": [],
      "source": [
        "for i, (imagenes, etiquetas_reales) in enumerate(datos_test.take(1)):\n",
        "    # Hacer predicciones\n",
        "    predicciones = modelo.predict(imagenes)\n",
        "\n",
        "    for j in range(5):\n",
        "        imagen = imagenes[j+26].numpy()\n",
        "        plt.subplot(1, 5, j+1)\n",
        "        plt.imshow(imagen, cmap=plt.cm.binary)\n",
        "        plt.title(f\"Pred:{tf.argmax(predicciones[j+26]).numpy()}\\nReal:{etiquetas_reales[j+26].numpy()}\")\n",
        "        plt.axis('off')\n",
        "    plt.show()"
      ]
    },
    {
      "cell_type": "markdown",
      "metadata": {
        "id": "tyTI--itEqft"
      },
      "source": [
        "Evaluamos el modelo:"
      ]
    },
    {
      "cell_type": "code",
      "execution_count": null,
      "metadata": {
        "colab": {
          "base_uri": "https://localhost:8080/"
        },
        "id": "PctCz0sk1md2",
        "outputId": "66364d69-9ca3-4e76-f854-17354e793863"
      },
      "outputs": [],
      "source": [
        "# Evaluar el modelo en el conjunto de prueba\n",
        "resultado = modelo.evaluate(datos_test)\n",
        "\n",
        "# resultado[0] es la pérdida, resultado[1] es la precisión\n",
        "print(f'Precisión en el conjunto de prueba: {resultado[1]:.4f}')"
      ]
    },
    {
      "cell_type": "markdown",
      "metadata": {
        "id": "CNnPzboQEqft"
      },
      "source": [
        "### <font color='264CC7'> Otros conjuntos de datos: cifar10</font>"
      ]
    },
    {
      "cell_type": "code",
      "execution_count": 104,
      "metadata": {
        "id": "V0Xx7BGHEqft"
      },
      "outputs": [],
      "source": [
        "# Completa el código para cifar10\n"
      ]
    },
    {
      "cell_type": "markdown",
      "metadata": {
        "id": "2sOlpcPGEqft"
      },
      "source": [
        "Revisamos el tipo de datos:"
      ]
    },
    {
      "cell_type": "code",
      "execution_count": null,
      "metadata": {
        "colab": {
          "base_uri": "https://localhost:8080/"
        },
        "id": "unYmyiB6Eqft",
        "outputId": "bdefca9e-d3d8-437b-941b-c951aed11682"
      },
      "outputs": [],
      "source": [
        "# Completa el código\n"
      ]
    },
    {
      "cell_type": "markdown",
      "metadata": {
        "id": "rVJOH_lYEqft"
      },
      "source": [
        "Visualizamos los datos:"
      ]
    },
    {
      "cell_type": "code",
      "execution_count": null,
      "metadata": {
        "colab": {
          "base_uri": "https://localhost:8080/",
          "height": 152
        },
        "id": "2Ht0Cl_bEqfu",
        "outputId": "8d59769d-3418-47a1-f5fb-4b89043d5eda"
      },
      "outputs": [],
      "source": [
        "# Completa el código\n"
      ]
    },
    {
      "cell_type": "markdown",
      "metadata": {
        "id": "czxKWQVwEqfu"
      },
      "source": [
        "Preparamos los datos en lotes:"
      ]
    },
    {
      "cell_type": "code",
      "execution_count": null,
      "metadata": {
        "colab": {
          "base_uri": "https://localhost:8080/"
        },
        "id": "pfirXIXQEqfu",
        "outputId": "af5eed79-0006-43fc-bf6c-8eed83426eb8"
      },
      "outputs": [],
      "source": [
        "# Completa el código\n"
      ]
    },
    {
      "cell_type": "markdown",
      "metadata": {
        "id": "PAYdsBcREqfu"
      },
      "source": [
        "### <font color='264CC7'> Redes densa</font>"
      ]
    },
    {
      "cell_type": "markdown",
      "metadata": {
        "id": "AFkhzZF1Eqfu"
      },
      "source": [
        "Definimos la red:"
      ]
    },
    {
      "cell_type": "code",
      "execution_count": null,
      "metadata": {
        "colab": {
          "base_uri": "https://localhost:8080/",
          "height": 262
        },
        "id": "8GTkMIprEqfu",
        "outputId": "8ee0d806-7983-404e-97d6-083f5c4049e2"
      },
      "outputs": [],
      "source": [
        "# Completa el código\n"
      ]
    },
    {
      "cell_type": "markdown",
      "metadata": {
        "id": "edksPEmZEqfu"
      },
      "source": [
        "Entrenamos el modelo:"
      ]
    },
    {
      "cell_type": "code",
      "execution_count": null,
      "metadata": {
        "colab": {
          "base_uri": "https://localhost:8080/"
        },
        "id": "O2kaJjr0Eqfu",
        "outputId": "defec0b9-9f30-4fe5-f1e0-810945070a7f"
      },
      "outputs": [],
      "source": [
        "# Completa el código\n"
      ]
    },
    {
      "cell_type": "markdown",
      "metadata": {
        "id": "M6Z_MFjjEqfv"
      },
      "source": [
        "Visualizamos los resultados:"
      ]
    },
    {
      "cell_type": "code",
      "execution_count": null,
      "metadata": {
        "colab": {
          "base_uri": "https://localhost:8080/",
          "height": 183
        },
        "id": "dws1IIAsEqfv",
        "outputId": "21f64a54-aef0-4780-de0e-7292443a0643"
      },
      "outputs": [],
      "source": [
        "# Completa el código\n"
      ]
    },
    {
      "cell_type": "markdown",
      "metadata": {
        "id": "n2ivArVZEqfv"
      },
      "source": [
        "Evaluamos el modelo:"
      ]
    },
    {
      "cell_type": "code",
      "execution_count": null,
      "metadata": {
        "colab": {
          "base_uri": "https://localhost:8080/"
        },
        "id": "QdLQ6XqiEqfv",
        "outputId": "b9eeb23e-2f88-4eb8-9ec3-b2285fd84f33"
      },
      "outputs": [],
      "source": [
        "# Completa el código\n"
      ]
    },
    {
      "cell_type": "markdown",
      "metadata": {
        "id": "F2keFjTREqfv"
      },
      "source": [
        "### <font color='264CC7'> Redes convolucional</font>"
      ]
    },
    {
      "cell_type": "markdown",
      "metadata": {
        "id": "6pMzEFO3Eqfv"
      },
      "source": [
        "Defimos la red:"
      ]
    },
    {
      "cell_type": "code",
      "execution_count": null,
      "metadata": {
        "colab": {
          "base_uri": "https://localhost:8080/",
          "height": 361
        },
        "id": "uhUQDDX-Eqfv",
        "outputId": "fe42c589-d1ac-45d5-a460-3f533f04c326"
      },
      "outputs": [],
      "source": [
        "# Completa el código\n"
      ]
    },
    {
      "cell_type": "markdown",
      "metadata": {
        "id": "rvdiniKcEqfv"
      },
      "source": [
        "Entrenamos el modelo:"
      ]
    },
    {
      "cell_type": "code",
      "execution_count": null,
      "metadata": {
        "colab": {
          "base_uri": "https://localhost:8080/"
        },
        "id": "rTs-QW7REqfv",
        "outputId": "fc1e63c0-40a8-43a5-dcb4-6687ba7ff122"
      },
      "outputs": [],
      "source": [
        "# Completa el código\n"
      ]
    },
    {
      "cell_type": "markdown",
      "metadata": {
        "id": "VeR_rE1BEqfv"
      },
      "source": [
        "Visualizamos los resultados:"
      ]
    },
    {
      "cell_type": "code",
      "execution_count": null,
      "metadata": {
        "colab": {
          "base_uri": "https://localhost:8080/",
          "height": 183
        },
        "id": "_vjftbMYEqfw",
        "outputId": "88029cec-d9e2-4937-d819-029857a98bb3"
      },
      "outputs": [],
      "source": [
        "# Completa el código\n"
      ]
    },
    {
      "cell_type": "markdown",
      "metadata": {
        "id": "xjyXtlAsEqfw"
      },
      "source": [
        "Evaluamos el modelo:"
      ]
    },
    {
      "cell_type": "code",
      "execution_count": null,
      "metadata": {
        "colab": {
          "base_uri": "https://localhost:8080/"
        },
        "id": "xdIQk2woEqfw",
        "outputId": "198216b6-0c6f-4904-d7cd-79d804dcbe36"
      },
      "outputs": [],
      "source": [
        "# Completa el código\n"
      ]
    },
    {
      "cell_type": "markdown",
      "metadata": {
        "id": "lwvuQtaDEqfw"
      },
      "source": [
        "---\n",
        "## <font color='264CC7'> Uso de redes pre-entrenadas</font>\n",
        "---"
      ]
    },
    {
      "cell_type": "markdown",
      "metadata": {
        "id": "lEbf27NFGqar"
      },
      "source": [
        "Cargamos el modelo yolov8."
      ]
    },
    {
      "cell_type": "code",
      "execution_count": null,
      "metadata": {
        "colab": {
          "base_uri": "https://localhost:8080/"
        },
        "id": "AO2ug7mtEqfw",
        "outputId": "5031408b-6478-4ebd-de6a-0057f6ba5e08"
      },
      "outputs": [],
      "source": [
        "! pip install ultralytics\n",
        "from ultralytics import YOLO\n",
        "model = YOLO('yolov8n.pt')"
      ]
    },
    {
      "cell_type": "markdown",
      "metadata": {
        "id": "wM6XFoZgEqfw"
      },
      "source": [
        "Leemos una imagen:"
      ]
    },
    {
      "cell_type": "code",
      "execution_count": 118,
      "metadata": {
        "id": "jzU_Gai2Eqfx"
      },
      "outputs": [],
      "source": [
        "img = plt.imread('OsoAurelio.jpg')"
      ]
    },
    {
      "cell_type": "markdown",
      "metadata": {
        "id": "X1wlg6l4Eqfx"
      },
      "source": [
        "Realizamos una predicción:"
      ]
    },
    {
      "cell_type": "code",
      "execution_count": null,
      "metadata": {
        "colab": {
          "base_uri": "https://localhost:8080/",
          "height": 490
        },
        "id": "cGgUWFl0Eqfx",
        "outputId": "3866aa91-2d96-446d-f01e-dbd7c6e7b0c6"
      },
      "outputs": [],
      "source": [
        "model = YOLO('yolov8n.pt')\n",
        "results = model(img)\n",
        "\n",
        "plt.imshow(results[0].plot())\n",
        "plt.show()"
      ]
    }
  ],
  "metadata": {
    "colab": {
      "include_colab_link": true,
      "provenance": []
    },
    "kernelspec": {
      "display_name": "Python 3",
      "language": "python",
      "name": "python3"
    },
    "language_info": {
      "codemirror_mode": {
        "name": "ipython",
        "version": 3
      },
      "file_extension": ".py",
      "mimetype": "text/x-python",
      "name": "python",
      "nbconvert_exporter": "python",
      "pygments_lexer": "ipython3",
      "version": "3.11.3"
    }
  },
  "nbformat": 4,
  "nbformat_minor": 0
}
